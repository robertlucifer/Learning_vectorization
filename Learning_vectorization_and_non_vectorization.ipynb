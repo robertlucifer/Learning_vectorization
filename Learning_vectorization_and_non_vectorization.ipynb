{
  "nbformat": 4,
  "nbformat_minor": 0,
  "metadata": {
    "colab": {
      "provenance": []
    },
    "kernelspec": {
      "name": "python3",
      "display_name": "Python 3"
    },
    "language_info": {
      "name": "python"
    }
  },
  "cells": [
    {
      "cell_type": "code",
      "execution_count": 1,
      "metadata": {
        "id": "7JUXpN5rMtkk"
      },
      "outputs": [],
      "source": [
        "import numpy as np\n",
        "import time"
      ]
    },
    {
      "cell_type": "markdown",
      "source": [
        "Random function is used to create a random element and rand function is used to create a array of those elements.\n",
        "\n",
        "In this example 10000 random values between 0,1 is created and stored in the variable a"
      ],
      "metadata": {
        "id": "pCWCqIunNlaS"
      }
    },
    {
      "cell_type": "code",
      "source": [
        "a=np.random.rand(100000)\n",
        "b=np.random.rand(100000)"
      ],
      "metadata": {
        "id": "0fbp0s3oNAGe"
      },
      "execution_count": 23,
      "outputs": []
    },
    {
      "cell_type": "code",
      "source": [
        "start_time=time.time()\n",
        "c=np.dot(a,b)\n",
        "end_time=time.time()\n",
        "print(c)\n",
        "print(f\"the time taken is {(end_time-start_time)*1000} ms\")"
      ],
      "metadata": {
        "colab": {
          "base_uri": "https://localhost:8080/"
        },
        "id": "jUSUnAz0N52d",
        "outputId": "77050e06-c626-4426-a5b4-529b0e02aa4e"
      },
      "execution_count": 24,
      "outputs": [
        {
          "output_type": "stream",
          "name": "stdout",
          "text": [
            "25123.397592469366\n",
            "the time taken is 4.410028457641602 ms\n"
          ]
        }
      ]
    },
    {
      "cell_type": "markdown",
      "source": [
        "Now you can see that the vectorization have taken 4.41 sec to complete the task"
      ],
      "metadata": {
        "id": "mXMvEXNsRQOI"
      }
    },
    {
      "cell_type": "markdown",
      "source": [],
      "metadata": {
        "id": "wGDs2RAbPy4E"
      }
    },
    {
      "cell_type": "code",
      "source": [
        "c=0\n",
        "start=time.time()\n",
        "for i in range(10000):\n",
        "  c+=a[i]*b[i]\n",
        "end=time.time()\n",
        "print(c)\n",
        "print(f\"the time taken is {(end-start)*1000} ms\")"
      ],
      "metadata": {
        "colab": {
          "base_uri": "https://localhost:8080/"
        },
        "id": "EQo8lFFWPyQX",
        "outputId": "5a64a2ba-cb6e-4c9b-fca0-e8df1a978f00"
      },
      "execution_count": 25,
      "outputs": [
        {
          "output_type": "stream",
          "name": "stdout",
          "text": [
            "2524.9594684877193\n",
            "the time taken is 11.289358139038086 ms\n"
          ]
        }
      ]
    },
    {
      "cell_type": "markdown",
      "source": [
        "But the non vectorization have taken 11.2 sec which is three time longer than vectorization. so this is the simple concept of vectorization and it is done using .dot function in numpy."
      ],
      "metadata": {
        "id": "1zpHP42JRaER"
      }
    }
  ]
}